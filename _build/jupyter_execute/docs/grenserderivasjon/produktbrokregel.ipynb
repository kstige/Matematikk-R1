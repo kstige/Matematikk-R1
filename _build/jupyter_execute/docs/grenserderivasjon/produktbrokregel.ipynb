{
 "cells": [
  {
   "attachments": {},
   "cell_type": "markdown",
   "metadata": {},
   "source": [
    "# Produkt- og brøkregelen"
   ]
  }
 ],
 "metadata": {
  "language_info": {
   "name": "python"
  }
 },
 "nbformat": 4,
 "nbformat_minor": 2
}