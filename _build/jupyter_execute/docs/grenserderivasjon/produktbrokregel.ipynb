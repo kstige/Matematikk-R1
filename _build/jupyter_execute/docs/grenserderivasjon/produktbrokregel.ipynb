{
 "cells": [
  {
   "attachments": {},
   "cell_type": "markdown",
   "metadata": {},
   "source": [
    "# Produkt- og brøkregelen\n",
    "\n",
    "```{admonition} Læringsutbytte\n",
    ":class: utbytte, dropdown\n",
    "I dette temaet arbeider vi med kompetansemålet:\n",
    "\n",
    " * bestemme den deriverte i et punkt geometrisk, algebraisk og ved numeriske metoder, og gi eksempler på funksjoner som ikke er deriverbare i gitte punkter\n",
    " * utforske, analysere og derivere ulike funksjoner og deres omvendte funksjoner, og gjøre rede for egenskaper til og sammenhenger mellom slike funksjoner\n",
    "\n",
    "Etter å ha arbeidet med temaet, skal du:\n",
    "\n",
    " * bruke produktregelen for derivasjon\n",
    " * bruke brøkregelen for derivasjon\n",
    "```"
   ]
  }
 ],
 "metadata": {
  "language_info": {
   "name": "python"
  }
 },
 "nbformat": 4,
 "nbformat_minor": 2
}