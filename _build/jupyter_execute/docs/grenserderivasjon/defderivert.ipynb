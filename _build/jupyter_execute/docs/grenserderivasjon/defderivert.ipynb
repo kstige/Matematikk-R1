{
 "cells": [
  {
   "attachments": {},
   "cell_type": "markdown",
   "metadata": {},
   "source": [
    "# Definisjon av den deriverte\n",
    "\n",
    "```{admonition} Læringsutbytte\n",
    ":class: utbytte, dropdown\n",
    "I dette temaet arbeider vi med kompetansemålet:\n",
    "\n",
    " * forstå begrepene vekstfart, grenseverdi, derivasjon og kontinuitet, og bruke disse for å løse praktiske problemer\n",
    " * bruke ulike strategier for å utforske og bestemme grenseverdier til funksjoner, og utforske og argumentere for anvendelser av grenseverdier\n",
    " * bestemme den deriverte i et punkt geometrisk, algebraisk og ved numeriske metoder, og gi eksempler på funksjoner som ikke er deriverbare i gitte punkter\n",
    "\n",
    "Etter å ha arbeidet med temaet, skal du:\n",
    "\n",
    " * finne gjennomsnittlig og momentan vekstfart med og uten digitale hjelpemidler\n",
    " * kunne forklare og bruke definisjonen av den deriverte\n",
    " * forklare hva vi mener med deriverbarhet\n",
    " * avgjøre om en funksjon er deriverbar i et punkt\n",
    " * forklare sammenhengen mellom deriverbarhet og kontinuitet\n",
    "```"
   ]
  }
 ],
 "metadata": {
  "language_info": {
   "name": "python"
  }
 },
 "nbformat": 4,
 "nbformat_minor": 2
}