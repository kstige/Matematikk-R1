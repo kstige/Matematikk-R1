{
 "cells": [
  {
   "cell_type": "markdown",
   "metadata": {},
   "source": [
    "# Viktige funksjoner\n",
    "\n",
    "```{admonition} Læringsutbytte\n",
    ":class: utbytte, dropdown\n",
    "I dette temaet arbeider vi med kompetansemålene:\n",
    " * forstå begrepene vekstfart, grenseverdi, derivasjon og kontinuitet, og bruke disse for å løse praktiske problemer\n",
    " * analysere og tolke ulike funksjoner ved å bruke derivasjon\n",
    " * modellere og analysere eksponentiell og logistisk vekst i reelle datasett\n",
    "\n",
    "Etter å ha arbeidet med temaet, skal du:\n",
    " * kjenne til funksjonene for lineær, eksponentiell og logistisk vekst\n",
    " * kjenne til praktiske anvendelser og forklare forskjeller mellom de ulike vekstmodellene\n",
    " * anvende derivasjon og grenseverdier til å utforske vekstmodellene\n",
    "```"
   ]
  },
  {
   "cell_type": "markdown",
   "metadata": {},
   "source": [
    "Hvis du vil gå rett videre til å arbeide mer med dette temaet kan du gå til siden om regresjon."
   ]
  }
 ],
 "metadata": {
  "language_info": {
   "name": "python"
  }
 },
 "nbformat": 4,
 "nbformat_minor": 2
}