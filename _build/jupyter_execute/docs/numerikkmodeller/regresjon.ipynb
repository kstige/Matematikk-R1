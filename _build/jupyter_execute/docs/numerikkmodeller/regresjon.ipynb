{
 "cells": [
  {
   "attachments": {},
   "cell_type": "markdown",
   "metadata": {},
   "source": [
    "# Regresjon\n",
    "\n",
    "```{admonition} Læringsutbytte\n",
    ":class: utbytte, dropdown\n",
    "I dette temaet arbeider vi med kompetansemålene:\n",
    " * analysere og tolke ulike funksjoner ved å bruke derivasjon\n",
    " * modellere og analysere eksponentiell og logistisk vekst i reelle datasett\n",
    "\n",
    "Etter å ha arbeidet med temaet, skal du:\n",
    " * bruke regresjon i GeoGebra og python til å finne og utforske vekstmodeller\n",
    " * begrunne valg av modell for en gitt problemstilling\n",
    " * kjenne til praktiske anvendelser og forklare forskjeller mellom de ulike vekstmodellene\n",
    "```\n",
    "\n",
    "Dette temaet blir en ren fortsettelse \n",
    "\n",
    "I 1T arbeidet vi mye med funksjoner, mens vi i R1 har arbeidet mye med derivasjon og vekst. I naturen (og i samfunnslivet) observerer vi mange ting som er i endring, og vi vil være interessert i å bruke endringen til å si noe om videre utvikling. Til det trenger vi å finne funksjonstyper som beskriver ulike former for utvikling. To av funksjontypene vi så på i 1T var [lineære funksjoner](https://kstige.github.io/Matematikk-1T/docs/funksjoner/rettelinjer.html) [eksponentialfunksjoner](https://kstige.github.io/Matematikk-1T/docs/funksjoner/eksponentialfunksjoner.html). I tillegg vil vi nå ta for oss en ny funksjonstype som kalles den logistiske funksjonen.\n",
    "\n",
    "På siden her vil vi gå ganske grundig til verks for å forklare og begrunne de ulike modellene. Om all programmeringskoden og metoden som er brukt blir for vanskelig, så vil det være nok å gå inn og se på resultatene på slutten av hvert avsnitt."
   ]
  },
  {
   "cell_type": "markdown",
   "metadata": {},
   "source": []
  }
 ],
 "metadata": {
  "kernelspec": {
   "display_name": "python37",
   "language": "python",
   "name": "python3"
  },
  "language_info": {
   "codemirror_mode": {
    "name": "ipython",
    "version": 3
   },
   "file_extension": ".py",
   "mimetype": "text/x-python",
   "name": "python",
   "nbconvert_exporter": "python",
   "pygments_lexer": "ipython3",
   "version": "3.7.16"
  }
 },
 "nbformat": 4,
 "nbformat_minor": 2
}