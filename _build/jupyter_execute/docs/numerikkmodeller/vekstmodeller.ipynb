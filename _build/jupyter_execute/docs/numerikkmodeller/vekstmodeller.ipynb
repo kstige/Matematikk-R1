{
 "cells": [
  {
   "attachments": {},
   "cell_type": "markdown",
   "metadata": {},
   "source": [
    "# Vekstmodeller\n",
    "\n",
    "```{admonition} Læringsutbytte\n",
    ":class: utbytte, dropdown\n",
    "I dette temaet arbeider vi med kompetansemålene:\n",
    " * forstå begrepene vekstfart, grenseverdi, derivasjon og kontinuitet, og bruke disse for å løse praktiske problemer\n",
    " * analysere og tolke ulike funksjoner ved å bruke derivasjon\n",
    " * modellere og analysere eksponentiell og logistisk vekst i reelle datasett\n",
    "\n",
    "Etter å ha arbeidet med temaet, skal du:\n",
    " * kjenne til funksjonene for lineær, eksponentiell og logistisk vekst\n",
    " * bruke regresjon i GeoGebra og python til å finne og utforske vekstmodeller\n",
    " * begrunne valg av modell for en gitt problemstilling\n",
    " * kjenne til praktiske anvendelser og forklare forskjeller i utvikling mellom de ulike vekstmodellene\n",
    "```\n",
    "\n",
    "Vi har arbeidet mye med funksjoner, derivasjon og vekst i 1T og R1. I naturen (og i samfunnslivet) observerer vi mange former for endring og utviling. Ofte vil vi være interessert i å kunne beksrive denne utviklingen matematisk. Dette gjør vi gjennom matematisk modellering. Modellering handler om å omforme det virkelige problemet til en forenklet matematisk framstilling. Det kan gjøres på flere måter. På denne siden og den neste vil vi modellere ved hjelp av funksjoner og grafer. Vi vil ta for oss tre ulike former for vekst som vi kan modellere med tre forskjellige funksjonstyper."
   ]
  },
  {
   "cell_type": "markdown",
   "metadata": {},
   "source": [
    "## Konstant vekst\n",
    "Med konstant vekst mener vi at den momentane vekstfarten er konstant. Vi må da ha at\n",
    "\n",
    "$f'(x)=a$, der $a$ er et fast tall.\n",
    "\n",
    "Vi kjenner igjen det her som stigningstallet til en lineær funksjon.\n",
    "\n",
    "```{admonition} Konstant vekst\n",
    ":class: def\n",
    "Vi har konstant vekst når den deriverte har en konstant verdi. Funksjonen som beskriver konstant vekst er den **lineære funksjonen**\n",
    "\n",
    "$f(x)=ax+b$\n",
    "\n",
    "der $a=f'(x)$ er stigningstallet til funksjonen og $b$ er konstantleddet gitt ved $f(0)$.\n",
    "\n",
    "```"
   ]
  },
  {
   "cell_type": "markdown",
   "metadata": {},
   "source": [
    "## Eksponentiell vekst\n",
    "En annen vanlig form for vekst er at vekstfarten er proporsjonal med størrelsen som vokser. Med matematiske symbol kan vi skrive det som\n",
    "\n",
    "$f'(x)=k\\cdot f(x)$\n",
    "\n",
    "Det vil si at dersom $k>0$ så vil funksjonen vokse raskere når verdien til funksjonen øker. I motsatt fall med $k<0$ så vil funksjonen minke og den vil minke saktere og saktere.\n",
    "\n",
    "```{admonition} Eksempel på størrelser med eksponentiell vekst\n",
    ":class: eksempel, dropdown\n",
    "\n",
    "Et vanlig eksempel på en slik form for vekst er renter. Endringen i verdi (rentene) fra en periode til neste ($f'(x)$) er gitt ved vekstfaktoren ($k$) multiplisert med beholdningen ved start på perioden ($f(x)$).\n",
    "\n",
    "Et annet eksempel er ukontrollert vekst i en populasjon. Vekstfarten i populasjonen ($f'(x)$) er gitt ved en eller annen konstant ($k$) multiplisert med størrelsen på populasjonen ($f(x)$). Denne typen vekst er vanlig i for eksempel startfasen på en pandemi, i bakterievekst på et laboratorium eller når vi innfører en ny art i et område der den ikke har naturlige fiender.\n",
    "\n",
    "Et eksempel på en størrelse som avtar eksponentielt er radioaktivitet. Et radioaktivt stoff vil for hver periode (kalt halveringstiden) avta med 50 %.\n",
    "```\n",
    "\n",
    "Av funksjonstypene vi har sett på, så er det eksponentialfunksjonen som har en derivert som er lik seg selv multiplisert med en konstant. Dersom vi lar\n",
    "\n",
    "$f(x)=a\\cdot e^{kx}$\n",
    "\n",
    "så vil\n",
    "\n",
    "$f'(x)=k\\cdot a\\cdot e^{kx}=k\\cdot f(x)$\n",
    "\n",
    "```{admonition} Eksponentiell vekst\n",
    ":class: def\n",
    "En funksjon som har vekstfart (derivert) proporsjonal med funksjonen, altså $f'(x)=k\\cdot f(x)$ vil gi eksponentiell vekst. Eksponentialfunksjonen er gitt ved\n",
    "\n",
    "$f(x)=a\\cdot e^{kx}$\n",
    "\n",
    "der $a$ er startverdien og $k$ er proporsjonalitetskonstanten.\n",
    "\n",
    "Vi vil også møte eksponentialfunksjonen på formen\n",
    "\n",
    "$f(x)=a\\cdot b^x$\n",
    "\n",
    "der $a$ er startverdien og $b$ er en vekstfaktor, det vil si $b=1\\pm\\frac{p}{100}$ der $p$ er en prosentvis endring.\n",
    "\n",
    "Sammenhengen mellom de to formene for eksponentialfunksjon er at $b=e^k$ eller $k=\\ln b$.\n",
    "```"
   ]
  },
  {
   "cell_type": "markdown",
   "metadata": {},
   "source": [
    "## Logistisk vekst\n",
    "Lineær vekst og eksponentiell vekst er vekstmodeller som aldri vil stoppe. I praksis vil imidlertid de fleste former for vekst avta etter en periode. Den logistiske vekstmodellen tar hensyn til det. Utgangspunktet for modellen er den samme som den eksponentielle ($f'(x)=k\\cdot f(x)$), men i tillegg innføres det en øvre begrensning eller bæreevne $B$ for størrelsen vi modellerer. Det gjøres ved å innføre en faktor $1-\\frac{f(x)}{B}$ i uttrykket for den deriverte\n",
    "\n",
    "$f'(x)=k\\cdot f(x)\\cdot \\left(1-\\frac{f(x)}{B}\\right)$\n",
    "\n",
    "Når $f(x)$ er liten vil $\\left(1-\\frac{f(x)}{B}\\right)$ være omtrent 1 og vi får en utvikling som tilsvarer den eksponentielle. Når $f(x)$ øker vil $\\left(1-\\frac{f(x)}{B}\\right)$ minke slik at den deriverte minker og funksjonen vil flate ut. Når $f(x)$ nærmer seg $B$ vil $\\left(1-\\frac{f(x)}{B}\\right)\\to 0$ og veksten stopper omtrent helt opp.\n",
    "\n",
    "Vi kjenner ingen funksjoner som oppfører seg slikt fra før, men det går an å vise at den logistiske funksjonen er gitt ved $\\displaystyle f(x)=\\frac{B}{1+a\\cdot e^{-kx}}$. For de interesserte så viser vi under at denne funksjonen gir en derivert på ønsket form.  \n",
    "\n",
    "```{admonition} Derivert av logistisk funksjon\n",
    ":class: eksempel, dropdown\n",
    "Vi skriver først funksjonen som $f(x)=B\\cdot(1+a\\cdot e^{-kx})^{-1}$ for lettere å se hvordan vi kan bruke kjerneregelen til å derivere. Etterpå må vi trikse litt algebraisk for å ende opp på riktig form.\n",
    "\n",
    "$\\begin{align}\n",
    "f'(x)&=B\\cdot (-1)\\cdot(1+a\\cdot e^{-kx})^{-2}\\cdot (-ake^{-kx}) \\\\\n",
    "&=k\\cdot \\frac{B}{1+a\\cdot e^{-kx}}\\cdot\\frac{a\\cdot e^{-kx}}{1+a\\cdot e^{-kx}} \\\\\n",
    "&=k\\cdot f(x)\\cdot \\frac{1+a\\cdot e^{-kx}-1}{1+a\\cdot e^{-kx}} \\\\\n",
    "&=k\\cdot f(x)\\cdot \\left(\\frac{1+a\\cdot e^{-kx}}{1+a\\cdot e^{-kx}}-\\frac{1}{1+a\\cdot e^{-kx}}\\right) \\\\\n",
    "&=k\\cdot f(x)\\cdot \\left(1-\\frac{f(x)}{B}\\right)\n",
    "\\end{align}$\n",
    "```\n",
    "\n",
    "```{admonition} Logistisk vekst\n",
    ":class: def\n",
    "Logistisk vekst er gitt ved en funksjon på formen\n",
    "\n",
    "$f(x)=\\frac{B}{1+a\\cdot e^{-kx}}$\n",
    "\n",
    "der $y=B$ er den horisontale asymptoten som grafen til $f$ går mot når $x\\to\\infty$. Vi kaller ofte $B$ for bæreevnen dersom det er en populasjonsvekst som modelleres. Størrelsene $a$ og $k$ har ikke like praktiske forklaringer, men skal også være positive størrelser.\n",
    "\n",
    "Den deriverte er gitt ved\n",
    "\n",
    "$f'(x)=k\\cdot f(x)\\cdot\\left(1-\\frac{f(x)}{B}\\right)$\n",
    "```\n",
    "\n",
    "Siden den logistiske funksjonen er ny for oss vil vi se litt nøyere på den enn vi gjorde på den lineære og eksponentielle. Grafen til en typisk logistisk funksjon (sammen med den deriverte) er gitt under. Vi ser at den har en slags S-form.\n",
    "\n",
    "```{figure} ./bilder/logistiskmodell.png\n",
    "---\n",
    "scale: 50%\n",
    "---\n",
    "```\n",
    "\n",
    "I starten øker veksten (den rød grafen) fram til den når et toppunkt. Der har $f(x)$ et vendepunkt. Etter vendepunktet begynner veksten og avta før den flater ut mot den horisontale asymptoten som er bæreevnen $B$.\n",
    "\n",
    "````{admonition} Eksempel: asymptote\n",
    ":class: eksempel\n",
    "Vis at den horisontale asymptoten til en generell logistisk funksjon er $B$.\n",
    "\n",
    "```{admonition} Løsning\n",
    ":class: ekslos, dropdown\n",
    "Funksjonen er gitt ved $\\displaystyle f(x)=\\frac{B}{1+a\\cdot e^{-kx}}$. For å finne horisontal asymptote ser vi på grenseverdien når $x\\to\\infty$.\n",
    "\n",
    "$\\lim_{x\\to\\infty}\\frac{B}{1+a\\cdot e^{-kx}}=\\frac{B}{1+a\\cdot \\lim_{x\\to\\infty} e^{-kx}}=\\frac{B}{1+a\\cdot 0}=\\frac{B}{1}=B$\n",
    "```\n",
    "````\n",
    "\n",
    "Av andre ting å legge merke til er vendepunktet. Vi ser av grafen over at det vil være punktet der veksten er størst. Det kan vises at vendepunktet ligger i $\\left(\\frac{\\ln a}{k}, \\frac{B}{2}\\right)$ (vis det gjerne selv med CAS).\n"
   ]
  },
  {
   "cell_type": "markdown",
   "metadata": {},
   "source": [
    "## Regresjon\n",
    "I 1T arbeidet vi med [regresjonsmodeller]{https://kstige.github.io/Matematikk-1T/docs/funksjoner/modellering.html}. Regresjon er en mye brukt form for modellering. Det handler om å finne det funksjonsuttrykket som passer best med de målingene vi har gjort eller det datasettet vi ønsker å modellere. \n",
    "\n",
    "I skolematematikken har GeoGebra blitt et standardverktøy for å utføre regresjon. Eksempel på bruk av det kan dere finne på siden med 1T. Om det er en eksponentiell eller logistisk modell du ønsker å finne, så er framgangsmåten den samme. Forskjellen ligger i valg av modell i siste steg.\n",
    "\n",
    "GeoGebra har den fordelen at det er brukervennlig og oversiktlig. Med programmering vil vi imidlertid får større muligheter til å tilpasse modellene våre, så det er den framgangsmåten vi bruker her. For å forenkle prosessen mest mulig velger vi å importere en funksjon som heter *curve_fit* fra biblioteket *scipy.optimize*. Vi starter med et eksempel med lineær regresjon."
   ]
  },
  {
   "cell_type": "markdown",
   "metadata": {},
   "source": [
    "### Lineær regresjon\n",
    "\n",
    "Under er det gitt et program som utfører lineær regresjon på oppgitte lister med $x$- og $y$-verdier. Programmet er delt opp med korte forklaringer før hele programmet (med mulighet for å endre) er gitt til slutt.\n",
    "\n",
    "Vi starter med å importere ekstra bibliotek som vi trenger. Som vanlig kan du velge \"import pylab as *\" i stedet for å importere numpy og pyplot. Da må du fjerne np. og plt. alle steder det står i koden."
   ]
  },
  {
   "cell_type": "code",
   "execution_count": 1,
   "metadata": {},
   "outputs": [],
   "source": [
    "import numpy as np\n",
    "import matplotlib.pyplot as plt\n",
    "from scipy.optimize import curve_fit"
   ]
  },
  {
   "cell_type": "markdown",
   "metadata": {},
   "source": [
    "Så skriver vi inn listene med $x$- og $y$-verdier som vi skal utføre regresjonen på. Disse listene kommer fra datapunktene våre (målinger)."
   ]
  },
  {
   "cell_type": "code",
   "execution_count": 2,
   "metadata": {},
   "outputs": [],
   "source": [
    "x = [1, 2, 3, 4, 5]\n",
    "y = [1.9, 4.1, 6.3, 7.2, 10.8]"
   ]
  },
  {
   "cell_type": "markdown",
   "metadata": {},
   "source": [
    "Videre lager vi en funksjon som viser hvilken modell vi ønsker å bruke. I dette eksempelet er det en lineær modell med variabel $x$ og parametre $a$ og $b$. Her kan vi lage akkurat den funksjonstypen vi ønsker, eller sette opp en kombinasjon av flere funksjonstyper. Under definisjonen av modellen bruker vi kommandoen curve_fit som utfører selve regresjonen og finner parametrene. curve_fit er en funksjon og vi gir den modellfunksjonen og listene med $x$- og $y$-verdier som input. Til sist i linje 4 står det [0]. Grunnen til det er at curve_fit sender ut mer informasjon enn parametrene $a$ og $b$. Siden vi (i R1) hovedsakelig er interessert i disse verdiene setter vi på [0] som betyr at vi kun skal ha denne informasjonen. Så skriver vi ut $a$ og $b$ med to desimaler."
   ]
  },
  {
   "cell_type": "code",
   "execution_count": 3,
   "metadata": {},
   "outputs": [
    {
     "name": "stdout",
     "output_type": "stream",
     "text": [
      "a =  2.09\n",
      "b =  -0.21\n"
     ]
    }
   ],
   "source": [
    "def modell(x, a, b):\n",
    "    return a*x+b\n",
    "\n",
    "[a, b] = curve_fit(modell, x, y)[0]\n",
    "print(\"a = \", round(a, 2))\n",
    "print(\"b = \", round(b, 2))"
   ]
  },
  {
   "cell_type": "markdown",
   "metadata": {},
   "source": [
    "Dersom vi ønsker å lage en graf av modellen kan vi bruke koden under. Den starter med å velge verdiene for $x$ som vi skal sette inn i modellen. Så beregner den $y$-verdiene for alle disse $x$-verdiene. Resten av koden er ulike kommandoer for å tilpasse grafen."
   ]
  },
  {
   "cell_type": "code",
   "execution_count": 4,
   "metadata": {},
   "outputs": [
    {
     "data": {
      "image/png": "[encoded data removed]",
      "text/plain": [
       "<Figure size 640x480 with 1 Axes>"
      ]
     },
     "metadata": {},
     "output_type": "display_data"
    }
   ],
   "source": [
    "x_akse = np.linspace(0, 10, 1000)\n",
    "y_modell = modell(x_akse, a, b)\n",
    "\n",
    "plt.plot(x_akse, y_modell, color = \"blue\", label = \"Lineær modell\")     # Grafen til modellen\n",
    "plt.scatter(x, y, color = \"red\", label = \"Datapunkter\")                 # Målepunktene\n",
    "plt.xlabel(\"x\")                                                         # Navn på x-akse\n",
    "plt.ylabel(\"y\")                                                         # Navn på y-akse\n",
    "plt.grid()                                                              # Rutenett\n",
    "plt.legend()                                                            # Informasjonsboks\n",
    "plt.show()                                                              # Vis grafen"
   ]
  },
  {
   "cell_type": "markdown",
   "metadata": {},
   "source": [
    "Under er hele programmet satt sammen. \n",
    "\n",
    " * Endre på listene med $x$- og $y$-verdier og se hvordan modellen endrer seg. \n",
    " * Gjør om modellen til en andregradsmodell. Da må du innføre en ekstra parameter $c$, endre på linje 7, 8, 10 og 15. I tillegg må du legge til ei linje etter linje 12.\n",
    " * Klarer du å lage en eksponentialmodell.\n",
    "\n",
    "<iframe src=\"https://trinket.io/embed/python3/3adb2590c6\" width=\"100%\" height=\"356\" frameborder=\"0\" marginwidth=\"0\" marginheight=\"0\" allowfullscreen></iframe>"
   ]
  },
  {
   "cell_type": "markdown",
   "metadata": {},
   "source": [
    "### Eksempel med logistisk modell\n"
   ]
  },
  {
   "cell_type": "code",
   "execution_count": 7,
   "metadata": {},
   "outputs": [
    {
     "name": "stdout",
     "output_type": "stream",
     "text": [
      "a =  44.14\n",
      "k =  0.4\n",
      "B =  82.32\n"
     ]
    },
    {
     "data": {
      "image/png": "[encoded data removed]",
      "text/plain": [
       "<Figure size 640x480 with 1 Axes>"
      ]
     },
     "metadata": {},
     "output_type": "display_data"
    }
   ],
   "source": [
    "import numpy as np\n",
    "import matplotlib.pyplot as plt\n",
    "from scipy.optimize import curve_fit\n",
    "\n",
    "x = [1, 2, 3, 4, 5]\n",
    "y = [2.2, 4, 6.8, 7.4, 12.0]\n",
    "\n",
    "def modell(x, a, k, B):\n",
    "    return B / (1+a*np.exp(-k*x))                       # np.exp(-k*x) gir e^(-kx)\n",
    "\n",
    "[a, k, B] = curve_fit(modell, x, y)[0]\n",
    "print(\"a = \", round(a, 2))\n",
    "print(\"k = \", round(k, 2))\n",
    "print(\"B = \", round(B, 2))\n",
    "\n",
    "x_akse = np.linspace(0, 25, 1000)\n",
    "y_modell = modell(x_akse, a, k, B)\n",
    "\n",
    "plt.plot(x_akse, y_modell, color = \"blue\", label = \"Logistisk modell\")     # Grafen til modellen\n",
    "plt.scatter(x, y, color = \"red\", label = \"Datapunkter\")                 # Målepunktene\n",
    "plt.xlabel(\"x\")                                                         # Navn på x-akse\n",
    "plt.ylabel(\"y\")                                                         # Navn på y-akse\n",
    "plt.grid()                                                              # Rutenett\n",
    "plt.legend()                                                            # Informasjonsboks\n",
    "plt.show()                                                              # Vis grafen"
   ]
  }
 ],
 "metadata": {
  "kernelspec": {
   "display_name": "python37",
   "language": "python",
   "name": "python3"
  },
  "language_info": {
   "codemirror_mode": {
    "name": "ipython",
    "version": 3
   },
   "file_extension": ".py",
   "mimetype": "text/x-python",
   "name": "python",
   "nbconvert_exporter": "python",
   "pygments_lexer": "ipython3",
   "version": "3.7.16"
  }
 },
 "nbformat": 4,
 "nbformat_minor": 2
}