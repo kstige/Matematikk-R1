{
 "cells": [
  {
   "attachments": {},
   "cell_type": "markdown",
   "metadata": {},
   "source": [
    "# Den andrederiverte\n",
    "\n",
    "```{admonition} Læringsutbytte\n",
    ":class: utbytte, dropdown\n",
    "I dette temaet arbeider vi med kompetansemålet:\n",
    "\n",
    " * forstå begrepene vekstfart, grenseverdi, derivasjon og kontinuitet, og bruke disse for å løse praktiske problemer\n",
    " * analysere og tolke ulike funksjoner ved å bruke derivasjon\n",
    " (* bestemme den deriverte i et punkt geometrisk, algebraisk og ved numeriske metoder, og gi eksempler på funksjoner som ikke er deriverbare i gitte punkter)\n",
    "\n",
    "Etter å ha arbeidet med temaet, skal du:\n",
    "\n",
    " * vite hva vi mener med den andrederiverte\n",
    " * forklare hva den andrederiverte viser om krumningen til funksjonen\n",
    " * finne vendepunkt og infleksjonspunkt og forklare hva det viser\n",
    " * kjenne til og kunne bruke andrederiverttesten\n",
    "```"
   ]
  },
  {
   "cell_type": "markdown",
   "metadata": {},
   "source": [
    "Vi har sett at når vi deriverer en funksjon $f(x)$, så ender vi opp med en ny funksjon $f'(x)$. Denne nye funksjonen viser hvor raskt $f(x)$ vokser. Men ellers er $f'(x)$ en vanlig funksjon på lik linje med $f(x)$. Det er derfor ingenting i veien for å derivere en gang til.\n",
    "\n",
    "```{admonition} Den andrederiverte\n",
    ":class: def\n",
    "Den andrederiverte til en funksjon $f(x)$ er den deriverte av den deriverte funksjonen. Vi skriver det slik\n",
    "\n",
    "$$(f'(x))'= f''(x)$$\n",
    "```\n",
    "\n",
    "Alt vi har lært til nå gjelder fortsatt. Vi bare deriverer en gang til. Det viktige for oss blir derfor hva den andrederiverte kan fortelle oss om den opprinnelige funksjonen.\n",
    "\n",
    "## Krumning\n"
   ]
  }
 ],
 "metadata": {
  "language_info": {
   "name": "python"
  }
 },
 "nbformat": 4,
 "nbformat_minor": 2
}