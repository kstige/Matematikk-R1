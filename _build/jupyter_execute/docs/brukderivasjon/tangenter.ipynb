{
 "cells": [
  {
   "attachments": {},
   "cell_type": "markdown",
   "metadata": {},
   "source": [
    "# Tangenter\n",
    "\n",
    "```{admonition} Læringsutbytte\n",
    ":class: utbytte, dropdown\n",
    "I dette temaet arbeider vi med kompetansemålet:\n",
    " * forstå begrepene vekstfart, grenseverdi, derivasjon og kontinuitet, og bruke disse for å løse praktiske problemer\n",
    " * analysere og tolke ulike funksjoner ved å bruke derivasjon\n",
    "\n",
    "Etter å ha arbeidet med temaet, skal du:\n",
    " * finne tangenten til en funksjon i ulike punkt på grafen\n",
    "```\n",
    "\n",
    "Vi husker fra tidligere at tangenten til en funksjon i et punkt er den rette linja som akkurat berører funksjonen i punktet. Stigningstallet til tangenten er lik verdien til den deriverte i punktet. Her skal vi se nærmere på hvordan vi kan finne likninga til tangenten. Til det kan vi ha nytte av ettpunktsformelen som vi lærte om i 1T.\n",
    "\n",
    "```{admonition} Ettpunktsformelen\n",
    ":class: def\n",
    "\n",
    "Dersom ei rett linje går gjennom punktet $(x_1, y_1)$ og har stigningstallet $a$, så vil likningen for den rette linja være gitt ved\n",
    "\n",
    "$$y-y_1 = a(x-x_1)$$\n",
    "```\n",
    "\n",
    "Når vi skal finne tangenten til en funksjon for $x=x_1$ får vi at\n",
    "\n",
    "    * stigningstallet $a=f'(x_1)$\n",
    "    * tangeringspunktet $(x_1, y_1) = (x_1, f(x_1))$\n",
    "\n",
    "Likningen for tangenten kan da finnes fra uttrykket\n",
    "\n",
    "$$y-f(x_1)=f'(x_1)\\cdot (x-x_1)$$"
   ]
  },
  {
   "attachments": {},
   "cell_type": "markdown",
   "metadata": {},
   "source": [
    "````{admonition} Eksempel 1\n",
    ":class: eksempel\n",
    "\n",
    "**a)** Finn likninga for tangenten til $f(x)=x^2+3x$ når $x=3$.\n",
    "\n",
    "**b)** Finn skjæringspunktet til tangenten med $x$-aksen og $y$-aksen.\n",
    "\n",
    "```{admonition} Løsning\n",
    ":class: ekslos, dropdown\n",
    "Starter med å finne den deriverte i punktet og funksjonsverdien i punktet.\n",
    "\n",
    "$f'(x)=2x+3 \\Rightarrow f'(3)=2\\cdot 3 + 3=9$\n",
    "\n",
    "$f(3)=3^2+3\\cdot 3=18$\n",
    "\n",
    "Tangenten finner vi da ved ettpunktsformelen.\n",
    "\n",
    "$\\begin{align}\n",
    "y-f(3)&=f'(3)(x-3) \\\\\n",
    "y &= 9(x-3)+18 \\\\\n",
    "y &= 9x-27+18 \\\\\n",
    "y &= 9x-9\n",
    "\\end{align}$\n",
    "\n",
    "**b)** Skjæringspunktet med $y$-aksen finner vi fra konstantleddet, så det er ved $y=-9$.\n",
    "\n",
    "Skjæringspunktet med $x$-aksen finner vi ved å sette $9x-9=0$. Ser da at det er ved $x=1$.\n",
    "```\n",
    "````"
   ]
  }
 ],
 "metadata": {
  "language_info": {
   "name": "python"
  }
 },
 "nbformat": 4,
 "nbformat_minor": 2
}