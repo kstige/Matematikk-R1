{
 "cells": [
  {
   "attachments": {},
   "cell_type": "markdown",
   "metadata": {},
   "source": [
    "# Modeller for vekst\n",
    "\n",
    "```{admonition} Læringsutbytte\n",
    ":class: utbytte, dropdown\n",
    "I dette temaet arbeider vi med kompetansemålet:\n",
    " * forstå begrepene vekstfart, grenseverdi, derivasjon og kontinuitet, og bruke disse for å løse praktiske problemer\n",
    " * analysere og tolke ulike funksjoner ved å bruke derivasjon\n",
    " * modellere og analysere eksponentiell og logistisk vekst i reelle datasett\n",
    "\n",
    "Etter å ha arbeidet med temaet, skal du:\n",
    " * kjenne til lineær, eksponentiell og logistisk vekst\n",
    " * forklare forskjellen på de ulike vekstmodellene\n",
    " * kjenne til praktiske anvendelser av de ulike vekstmodellene\n",
    " * anvende derivasjon og grenseverdier til å utforske vekstmodellene\n",
    " * bruke regresjon i GeoGebra og python til å finne modeller for vekst\n",
    "```"
   ]
  }
 ],
 "metadata": {
  "language_info": {
   "name": "python"
  }
 },
 "nbformat": 4,
 "nbformat_minor": 2
}