{
 "cells": [
  {
   "attachments": {},
   "cell_type": "markdown",
   "metadata": {},
   "source": [
    "# Skalarprodukt\n",
    "\n",
    "```{admonition} Læringsutbytte\n",
    ":class: utbytte, dropdown\n",
    "I dette temaet arbeider vi med kompetansemålet:\n",
    "\n",
    " * forstå begrepet vektor og regneregler for vektorer i planet, og bruke vektorer til å beregne ulike størrelser i planet\n",
    "\n",
    "Etter å ha arbeidet med temaet, skal du:\n",
    " \n",
    " * kunne regne ut skalarproduktet mellom to vektorer på to måter algebraisk\n",
    " * ha en forståelse for hva skalarproduktet sier grafisk\n",
    " * bruke regneregler for skalarproduktet\n",
    " * bruke skalarproduktet til å finne vinkelen mellom to vektorer\n",
    " * avgjøre om vektorer står vinkelrett på hverandre\n",
    "\n",
    "```"
   ]
  }
 ],
 "metadata": {
  "language_info": {
   "name": "python"
  }
 },
 "nbformat": 4,
 "nbformat_minor": 2
}