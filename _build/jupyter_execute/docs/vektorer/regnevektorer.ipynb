{
 "cells": [
  {
   "attachments": {},
   "cell_type": "markdown",
   "metadata": {},
   "source": [
    "# Regne med vektorer\n",
    "\n",
    "```{admonition} Læringsutbytte\n",
    ":class: utbytte, dropdown\n",
    "I dette temaet arbeider vi med kompetansemålet:\n",
    "\n",
    " * forstå begrepet vektor og regneregler for vektorer i planet, og bruke vektorer til å beregne ulike størrelser i planet\n",
    "\n",
    "Etter å ha arbeidet med temaet, skal du:\n",
    " \n",
    " * kunne finne summen av to vektorer algebraisk og geometrisk\n",
    " * finne differansen mellom to vektorer algebraisk og geometrisk\n",
    " * vite hva vi mener med den motsatte vektoren\n",
    " * kunne multiplisere en vektor med en skalar (et tall)\n",
    " * dekomponere vektorer og vite hva enhetsvektorene er\n",
    "\n",
    "```"
   ]
  },
  {
   "cell_type": "markdown",
   "metadata": {},
   "source": [
    "## Addisjon av vektorer\n",
    "Vi har sett at en vektor er en størrelse som består av en tallstørrelse og en retning. Når vi skal addere vektorer, må vi ta hensyn til begge deler. Det enkleste er å se for oss at vi tar en bevegelse i $x$-retning og en bevegelse i $y$-retning.Hvis vi da ser på summen $\\vec{u}+\\vec{v}$, så kan vi altså legge sammen $x$-komponenten for seg og $y$-komponenten for seg. Vi illusterer det i figuren under\n",
    "\n",
    "```{figure} ./bilder/vektoraddisjon.png\n",
    "---\n",
    "scale: 15%\n",
    "---\n",
    "```\n",
    "\n",
    "Figuren illustrer også hvordan vi kan addere vektorer algebraisk (ved regning).\n",
    "\n",
    "```{admonition} Vektoraddisjon\n",
    ":class: def\n",
    "Dersom vi har to vektorer $\\vec{u}=[x_1, y_1]$ og $\\vec{v}=[x_2, y_2]$, så vil summen være gitt av en ny vektor \n",
    "\n",
    "$\\vec{w} = \\vec{u} + \\vec{v} = [x_1, y_1] + [x_2, y_2] = [x_1+x_2, y_1+y_2]$\n",
    "\n",
    "Geometrisk adderer vi vektorene ved å plassere $\\vec{v}$ i sluttpunktet til $\\vec{u}$ og trekke en ny vektor fra startpunktet til $\\vec{u}$ til sluttpunktet til $\\vec{v}$.\n",
    "\n",
    "Både det geometriske og det algebraiske resultatet kan generaliseres til sum av flere enn to vektorer.\n",
    "```\n",
    "\n",
    "Vi tar et eksempel her og litt flere mot slutten av siden.\n",
    "\n",
    "\n",
    "`````{admonition} Eksempel 1\n",
    ":class: eks\n",
    "Vi skal finne $\\vec{u}+\\vec{v}$ når $\\vec{u}=[5,3]$ og $\\vec{v}=[2, 3]$.\n",
    "\n",
    "````{admonition} Løsning\n",
    ":class: ekslos, dropdown\n",
    "Ved regning finner vi at\n",
    "\n",
    "$\\vec{u}+\\vec{v}=[5,3]+[2,3]=[5+2, 3+3] = [7, 6]$\n",
    "\n",
    "\n",
    "Geometrisk starter vi med å tegne vektorene i et koordinatsystem slik at $\\vec{v}$ starter der $\\vec{u}$ slutter. Summen av vektorene blir en ny vektor, $\\vec{w}$, som går fra starten av $\\vec{u}$ til slutten av $\\vec{v}$.\n",
    "\n",
    "```{figure} ./bilder/vektoraddisjoneksempel.png\n",
    "---\n",
    "scale: 15%\n",
    "---\n",
    "```\n",
    "````\n",
    "`````\n",
    "\n",
    "Addisjon av vektorer har på grunn av dette mange av de samme egenskapene som addisjon av vanlige tall. Blant disse er de såkalte **kommutative** og **assosiative** egenskapene til addisjon. \n",
    "\n",
    "```{admonition} Kommutativ og assosiativ egenskap\n",
    ":class: def\n",
    "At vektoraddisjon er kommutativt betyr at vi kan addere de i den rekkefølgen vi vil.\n",
    "\n",
    "$\\vec{u}+\\vec{v}=\\vec{v}+\\vec{u}$\n",
    "\n",
    "At vektoraddisjon er assosiativt betyr at om vi skal addere tre (eller flere) vektorer, så kan vi selv bestemme hvilke vi skal addere først.\n",
    "\n",
    "$\\left(\\vec{u}+\\vec{v}\\right)+\\vec{w}=\\vec{u}+\\left(\\vec{v}+\\vec{w}\\right)=\\vec{u}+\\vec{v}+\\vec{w}$\n",
    "\n",
    "Mer om disse lovene for vanlige tall finner du under [sidene fra 1T](https://kstige.github.io/Matematikk-1T/docs/talgebra/aritmetikk_algebra.html).\n",
    "```"
   ]
  },
  {
   "cell_type": "markdown",
   "metadata": {},
   "source": [
    "## Subtraksjon av vektorer\n",
    "Fra vanlig tallregning vet vi at subtraksjon er det motsatte av addisjon. Det utnytter vi når vi skal definere subtraskjon av vektorer."
   ]
  }
 ],
 "metadata": {
  "language_info": {
   "name": "python"
  }
 },
 "nbformat": 4,
 "nbformat_minor": 2
}