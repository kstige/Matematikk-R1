{
 "cells": [
  {
   "attachments": {},
   "cell_type": "markdown",
   "metadata": {},
   "source": [
    "# Anvendelser i geometri\n",
    "\n",
    "```{admonition} Læringsutbytte\n",
    ":class: utbytte, dropdown\n",
    "I dette temaet arbeider vi med kompetansemålet:\n",
    "\n",
    " * forstå begrepet vektor og regneregler for vektorer i planet, og bruke vektorer til å beregne ulike størrelser i planet\n",
    "\n",
    "Etter å ha arbeidet med temaet, skal du:\n",
    " \n",
    " * finne midtpunktet på et linjestykke\n",
    " * bruke vektorer til å utlede sirkellikningen\n",
    " * finne avstand fra punkt til linje\n",
    "\n",
    "```"
   ]
  }
 ],
 "metadata": {
  "language_info": {
   "name": "python"
  }
 },
 "nbformat": 4,
 "nbformat_minor": 2
}