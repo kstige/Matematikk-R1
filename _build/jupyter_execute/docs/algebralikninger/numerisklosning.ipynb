{
 "cells": [
  {
   "attachments": {},
   "cell_type": "markdown",
   "metadata": {},
   "source": [
    "# Numerisk løsning av likninger\n",
    "\n",
    "De aller fleste likninger vi møter i matematikken på skolen kan løses med en eller annen lur metode. Dette er nyttig for blant annet forståelse og utledning av vktige resultater. I det \"virkelige liv\" vil imidlertid mange (de fleste) av likningne vi møter enten være veldig vanskelig eller umulig å løse. Vi trenger allikevel metoder for å løse likningene. Til det trenger vi numeriske metoder. Det er metoder som finner tilnærmede løsninger til likningene. Slike metoder finnes det mange av, "
   ]
  }
 ],
 "metadata": {
  "language_info": {
   "name": "python"
  }
 },
 "nbformat": 4,
 "nbformat_minor": 2
}