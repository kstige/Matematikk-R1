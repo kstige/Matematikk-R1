{
 "cells": [
  {
   "attachments": {},
   "cell_type": "markdown",
   "metadata": {},
   "source": [
    "# Eksponentiallikninger\n",
    "\n",
    "```{admonition} Læringsutbytte\n",
    ":class: utbytte, dropdown\n",
    "I dette temaet arbeider vi med kompetansemålet:\n",
    "\n",
    " * utforske og forstå regneregler for potenser og logaritmer, og bruke ulike strategier for å løse eksponentialligninger og logaritmeligninger\n",
    "\n",
    "Etter å ha arbeidet med temaet, skal du:\n",
    " \n",
    " * forklare hva en eksponentiallikning er\n",
    " * anvende ulike strategier for å løse eksponentiallikninger (blant annet ved hjelp av logaritmer)\n",
    " * forklare ekvivalens og implikasjon i logaritmiske likninger\n",
    " * bruke digitale hjelpemidler for å løse eksponentiallikninger\n",
    "```\n"
   ]
  }
 ],
 "metadata": {
  "language_info": {
   "name": "python"
  }
 },
 "nbformat": 4,
 "nbformat_minor": 2
}