{
 "cells": [
  {
   "attachments": {},
   "cell_type": "markdown",
   "metadata": {},
   "source": [
    "# Kontinuitet\n",
    "\n",
    "```{admonition} Læringsutbytte\n",
    ":class: utbytte, dropdown\n",
    "I dette temaet arbeider vi med kompetansemålet:\n",
    "\n",
    " * forstå begrepene vekstfart, grenseverdi, derivasjon og kontinuitet, og bruke disse for å løse praktiske problemer\n",
    " * bruke ulike strategier for å utforske og bestemme grenseverdier til funksjoner, og utforske og argumentere for anvendelser av grenseverdier\n",
    "\n",
    "Etter å ha arbeidet med temaet, skal du:\n",
    "\n",
    " * kunne forklare hva vi mener med at en funksjon er kontinuerlig i et punkt og en kontinuerlig funksjon\n",
    " * avgjøre om en funksjon er kontinuerlig i et punkt og om en funksjon er kontinuerlig\n",
    " * bruke og forstå funksjonsuttrykk for funksjoner med delt forskrift\n",
    " * kunne tegne funksjoner med delt forskrift digitalt\n",
    " * forklare hva vi mener med et bruddpunkt\n",
    " * kjenne til absoluttverdifunksjonen\n",
    "```"
   ]
  }
 ],
 "metadata": {
  "language_info": {
   "name": "python"
  },
  "orig_nbformat": 4
 },
 "nbformat": 4,
 "nbformat_minor": 2
}
