{
 "cells": [
  {
   "attachments": {},
   "cell_type": "markdown",
   "metadata": {},
   "source": [
    "# Numerisk løsning av likninger\n",
    "\n",
    "```{admonition} Læringsutbytte\n",
    ":class: tip, dropdown\n",
    "I dette temaet arbeider vi med kompetansemålet:\n",
    "\n",
    " * utforske og forstå regneregler for potenser og logaritmer, og bruke ulike strategier for å løse eksponentialligninger og logaritmeligninger\n",
    "\n",
    "Etter å ha arbeidet med temaet, skal du:\n",
    " \n",
    " * forklare hva en numerisk metode er\n",
    " * undersøke ulike numeriske metoder for å løse likninger\n",
    " * lage et program som gir numerisk løsninger av likninger\n",
    " * forklare hvordan metoden fungerer\n",
    "```\n",
    "\n",
    "De aller fleste likninger vi møter i matematikken på skolen kan løses med en eller annen lur metode. Dette er nyttig for blant annet forståelse og utledning av vktige resultater. I det \"virkelige liv\" vil imidlertid mange (de fleste) av likningne vi møter enten være veldig vanskelig eller umulig å løse. Vi trenger allikevel metoder for å løse likningene. Til det trenger vi numeriske metoder. Det er metoder som finner tilnærmede løsninger til likningene. Slike metoder finnes det mange av. "
   ]
  }
 ],
 "metadata": {
  "language_info": {
   "name": "python"
  },
  "orig_nbformat": 4
 },
 "nbformat": 4,
 "nbformat_minor": 2
}
