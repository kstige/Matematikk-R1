{
 "cells": [
  {
   "cell_type": "markdown",
   "metadata": {},
   "source": [
    "# Parameterframstilling\n",
    "\n",
    "```{admonition} Læringsutbytte\n",
    ":class: utbytte, dropdown\n",
    "I dette temaet arbeider vi med kompetansemålet:\n",
    "\n",
    " * anvende parameterframstillinger til linjer og bruke parameterframstillinger til å løse naturvitenskapelige problemer\n",
    " * forstå begrepet vektor og regneregler for vektorer i planet, og bruke vektorer til å beregne ulike størrelser i planet\n",
    "\n",
    "Etter å ha arbeidet med temaet, skal du:\n",
    " \n",
    " * finne parameterframstilling for rett linje\n",
    " * bruke sammenheng mellom retningsvektor og stigningstall\n",
    " * vite at det finnes flere parameterframstillinger for samme kurve/linje\n",
    " * avgjøre om et punkt ligger på kurven gitt av en parameterframstilling\n",
    " * finne skjæringspunkt mellom kurver gitt ved parameterframstillinger\n",
    " * tegne vektorfunksjoner i GeoGebra\n",
    " * kjenne til posisjons-, farts- og akselerasjonsvektor\n",
    "```"
   ]
  }
 ],
 "metadata": {
  "language_info": {
   "name": "python"
  },
  "orig_nbformat": 4
 },
 "nbformat": 4,
 "nbformat_minor": 2
}
