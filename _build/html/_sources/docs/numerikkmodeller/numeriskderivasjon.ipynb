{
 "cells": [
  {
   "attachments": {},
   "cell_type": "markdown",
   "metadata": {},
   "source": [
    "# Numerisk derivasjon\n",
    "\n",
    "```{admonition} Læringsutbytte\n",
    ":class: utbytte, dropdown\n",
    "I dette temaet arbeider vi med kompetansemålet:\n",
    "\n",
    " * forstå begrepene vekstfart, grenseverdi, derivasjon og kontinuitet, og bruke disse for å løse praktiske problemer\n",
    " * bestemme den deriverte i et punkt geometrisk, algebraisk og ved numeriske metoder, og gi eksempler på funksjoner som ikke er deriverbare i gitte punkter\n",
    "\n",
    "Etter å ha arbeidet med temaet, skal du:\n",
    "\n",
    " * beregne tilnærmede verdier for den deriverte fra definisjonen\n",
    " * definere funksjoner med programmering\n",
    " * bruke programmering til å tegne grafen til funksjonen og den deriverte\n",
    " * laste inn datasett i python\n",
    " * derivere datasett der vi ikke har en funksjon\n",
    "```"
   ]
  },
  {
   "attachments": {},
   "cell_type": "markdown",
   "metadata": {},
   "source": [
    "Vi husker at vi definerte den deriverte som grenseverdien av den gjennomsnittlige vekstfarten.\n",
    "\n",
    "$$f'(x)=\\lim_{\\Delta x\\to 0}\\frac{\\Delta f(x)}{\\Delta x}=\\lim_{\\Delta x\\to 0}\\frac{f(x+\\Delta x)-f(x)}{\\Delta x}$$\n",
    "\n",
    "Den siste brøken her kalles **Newtons kvotient**. Når vi skal beregne den deriverte numerisk, så gjør vi en tilnærming der vi bruker Newtons koeffisient og setter $\\Delta x$ lik et lite tall.\n",
    "\n",
    "```{admonition} Numerisk derivasjon (framoverdifferansen)\n",
    ":class: def\n",
    "\n",
    "$f'(x)\\approx\\frac{f(x+\\Delta x)-f(x)}{\\Delta x}$\n",
    "\n",
    "der $\\Delta x$ settes til et lite tall (i størrelsesorden $10^{-8}$).\n",
    "\n",
    "Denne metoden kalles framoverdifferansen siden vi ser på forskjellen mellom $f(x+\\Delta x)$ og $f(x)$.\n",
    "```\n",
    "\n",
    "Framoverdifferansen er illustrert i bildet under. Når $\\Delta x$ blir et lite tall vil den rette linja nærme seg tangenten i punktet $x$ og stigningstallet til linja vil nærme seg verdien til den deriverte i punktet.\n",
    "\n",
    "```{figure} ./bilder/framoverdifferansen.png\n",
    "---\n",
    "scale: 50%\n",
    "---\n",
    "```\n",
    "\n",
    "Tilsvarende kan vi bruke det vi kaller bakoverdifferansen der vi i stedet for å se på $x+\\Delta x$ ser på $x-\\Delta x$. I praksis er det ingen forskjell på disse.\n",
    "\n",
    "```{admonition} Numerisk derivasjon (bakoverdifferansen)\n",
    ":class: def, dropdown\n",
    "Med bakoverdifferansen finner vi en tilnærming til den deriverte ved å se på et punkt før $x$-verdien vi er interessert i.\n",
    "$f'(x)\\approx\\frac{f(x)-f(x-\\Delta x)}{\\Delta x}$\n",
    "```\n",
    "\n",
    "Disse metodene gir oss den deriverte i et punkt. Med programmering kan vi raskt gjennomføre metoden for mange $x$-verdier for å få tegnet opp grafen til den deriverte."
   ]
  },
  {
   "cell_type": "code",
   "execution_count": 12,
   "metadata": {},
   "outputs": [
    {
     "data": {
      "image/png": "[encoded data removed]",
      "text/plain": [
       "<Figure size 432x288 with 1 Axes>"
      ]
     },
     "metadata": {
      "needs_background": "light"
     },
     "output_type": "display_data"
    }
   ],
   "source": [
    "import numpy as np                      # Her kan vi bruk import pylab as *\n",
    "import matplotlib.pyplot as plt         # i stedet for disse to bibliotekene\n",
    "\n",
    "def f(x):                               # Definer funksjonen vi skal jobbe med\n",
    "    return -x + x**2\n",
    "\n",
    "def derivert(f, x, dx = 1E-8):          # Numerisk derivert av f. Her har dx fått en standardverdi\n",
    "    return (f(x + dx) - f(x))/dx\n",
    "\n",
    "x = np.linspace(-4,5,100)\n",
    "y = f(x)\n",
    "yderivert = derivert(f, x+5)\n",
    "\n",
    "plt.plot(x,y,label=\"f(x)\") # Plotter funksjonen\n",
    "plt.plot(x,yderivert,label=\"f'(x)\") # Plotter den deriverte til funksjonen\n",
    "plt.xlabel(\"x\")\n",
    "plt.ylabel(\"y\")\n",
    "plt.legend()\n",
    "plt.show()"
   ]
  },
  {
   "attachments": {},
   "cell_type": "markdown",
   "metadata": {},
   "source": [
    "## Feilanalyse\n",
    "\n",
    "Med de numeriske metodene gjør vi en tilnærming til den deriverte. Vi lar ikke $\\Delta x$ gå mot null, men vi velger en liten verdi. Det er da naturlig å tenke seg at jo mindre vi velger $\\Delta x$ jo mer nøyaktig blir verdien til den deriverte. Vi gjør en test på det."
   ]
  },
  {
   "cell_type": "code",
   "execution_count": 15,
   "metadata": {},
   "outputs": [
    {
     "name": "stdout",
     "output_type": "stream",
     "text": [
      "For delta_x = 0.01 er feilen: 0.3333333333304248 %\n",
      "For delta_x = 0.0001 er feilen: 0.003333333524106289 %\n",
      "For delta_x = 1e-06 er feilen: 3.33502744827759e-05 %\n",
      "For delta_x = 1e-08 er feilen: 6.07747097092215e-07 %\n",
      "For delta_x = 1e-10 er feilen: 8.274037099909037e-06 %\n",
      "For delta_x = 1e-12 er feilen: 0.008890058234101161 %\n",
      "For delta_x = 1e-14 er feilen: 2.1405182655144017 %\n",
      "For delta_x = 1e-16 er feilen: 100.0 %\n"
     ]
    }
   ],
   "source": [
    "def f(x):                 \n",
    "    return -x + x**2\n",
    "\n",
    "def adf(x):                       # Analytisk derivert av f\n",
    "    return -1+2*x\n",
    "\n",
    "def df(f, x, dx = 1E-8):          # Numerisk derivert av f\n",
    "    return (f(x + dx) - f(x))/dx\n",
    "\n",
    "x = 2\n",
    "dx = [10**(-2), 10**(-4), 10**(-6), 10**(-8), 10**(-10), 10**(-12), 10**(-14), 10**(-16)]\n",
    "analytisk = adf(x)\n",
    "\n",
    "for i in range(len(dx)):\n",
    "    numerisk = df(f, x, dx[i]) \n",
    "    feil = abs(numerisk-analytisk)/analytisk * 100\n",
    "    print(\"For delta_x =\", dx[i],\"er feilen:\", feil, \"%\")"
   ]
  },
  {
   "attachments": {},
   "cell_type": "markdown",
   "metadata": {},
   "source": [
    "Vi ser at feilen er minst for $\\Delta x = 10^{-8}$. Grunnen til at det ikke hjelper å bruke mindre verdier er at datamaskinen sin evne til å lagre tall nøyaktig slår inn når $\\Delta x$ blir veldig liten. Da dukker det opp avrundingsfeil som gir ganske voldsomme feil når vi opererer med så små tall."
   ]
  },
  {
   "attachments": {},
   "cell_type": "markdown",
   "metadata": {},
   "source": [
    "## Sentraldifferansen (ekstra)\n",
    "En metode som ofte gir et mer nøyaktig resultat er at vi slår sammen bakoverdifferansen og framoverdifferansen.\n",
    "\n",
    "```{admonition} Sentraldifferansen\n",
    ":class: def\n",
    "Med sentraldifferansen ser vi på et punkt før og et punkt etter den $x$-verdien vi er interessert i.\n",
    "$f'(x)\\approx\\frac{f(x+\\Delta x)-f(x-\\Delta x)}{2\\Delta x}$\n",
    "```\n",
    "\n",
    "Her bruker vi altså et punkt før og et punkt etter det punktet vi er interessert i. Prøv å bruke figuren under til å forklare hvorfor det vil bli mer nøyaktig.\n",
    "\n",
    "```{figure} ./bilder/sentraldifferansen.png\n",
    "---\n",
    "scale: 50%\n",
    "---\n",
    "```"
   ]
  },
  {
   "attachments": {},
   "cell_type": "markdown",
   "metadata": {},
   "source": [
    "Vi vil komme tilbake til numerisk derivasjon av reelle datasett når vi kommer til modeller.\n",
    "\n",
    "## Kilder\n",
    "Mye av stoffet på denne siden er basert på informasjon herfra: [realprog.no](https://realprog.no/docs/tema4_numeriske_metoder/derivasjon.html). Den siden går dypere inn i både forklaringer og begrunnelser for metodene."
   ]
  }
 ],
 "metadata": {
  "kernelspec": {
   "display_name": "python37",
   "language": "python",
   "name": "python3"
  },
  "language_info": {
   "codemirror_mode": {
    "name": "ipython",
    "version": 3
   },
   "file_extension": ".py",
   "mimetype": "text/x-python",
   "name": "python",
   "nbconvert_exporter": "python",
   "pygments_lexer": "ipython3",
   "version": "3.7.13"
  },
  "orig_nbformat": 4
 },
 "nbformat": 4,
 "nbformat_minor": 2
}
