{
 "cells": [
  {
   "cell_type": "markdown",
   "metadata": {},
   "source": [
    "# Vektorer\n",
    "\n",
    "```{admonition} Læringsutbytte\n",
    ":class: utbytte, dropdown\n",
    "I dette temaet arbeider vi med kompetansemålet:\n",
    "\n",
    " * forstå begrepet vektor og regneregler for vektorer i planet, og bruke vektorer til å beregne ulike størrelser i planet\n",
    "\n",
    "Etter å ha arbeidet med temaet, skal du:\n",
    " \n",
    " * vite hva vi mener med en vektor og en posisjonsvektor\n",
    " * lese av koordinatene til en vektor i planet\n",
    " * tegne vektorer i planet\n",
    " * kunne finne lengden til en vektor\n",
    " * kunne finne vektoren mellom to punkt\n",
    "\n",
    "```"
   ]
  },
  {
   "cell_type": "markdown",
   "metadata": {},
   "source": [
    "## Hva er en vektor?\n",
    "\n",
    "I realfagene møter vi på mange størrelser der retningen er viktig. For eksempel er det vesentlig å se både på retning og tallstørrelse når vi skal undersøke vind. Til slike størrelser trenger vi noe som kalles vektorer.\n",
    "\n",
    "`````{admonition} Vektor\n",
    ":class: def\n",
    "En vektor er en størrelse som har både måltall (talltørrelse) og retning.\n",
    "\n",
    "Navnet på en vektor skriver vi med en pil over navnet på denne måten $\\vec{u}$, eller ved hjelp av start og sluttpunkt $\\vec{AB}$. Selve vektoren oppgir vi ved å bruke koordinater med firkantparenteser rundt. Koordinatene er gitt ved antall enheter i x-retning og antall enheter i y-retning.\n",
    "\n",
    "```{figure} ./bilder/vektorer.png\n",
    "---\n",
    "scale: 20%\n",
    "---\n",
    "```\n",
    "\n",
    "Her ser vi vektoren $\\vec{u}=[3, 4]$ og $\\vec{AB} = [3, 4]$. Vektorene er like selv om de har ulikt startpunkt.\n",
    "```````\n",
    "\n",
    "Dette er i motsetning til størrelser som temperatur og masse der kun tallstørrelsen er viktig. Slike størresler kalles **skalarer**.\n",
    "\n",
    "I R1 skal vi kun se på 2-dimensjonale vektorer, men det er ingenting i veien for å utvide vektorbegrepet til så mange dimensjoner vi trenger. Einstein sin relativitetsteori kan for eksempel beskrives ved hjelp av 4-dimensjonale vektorer (tre retninger i rommet + tid). Når vi arbeider i to dimensjoner er det praktisk å tegnet vektorene inn i et koordinatsystem. I koordinatsystemet under har vi tegnet inn to vektorer $\\vec{u}$ og $\\vec{AB}$.\n",
    "\n"
   ]
  }
 ],
 "metadata": {
  "language_info": {
   "name": "python"
  },
  "orig_nbformat": 4
 },
 "nbformat": 4,
 "nbformat_minor": 2
}
