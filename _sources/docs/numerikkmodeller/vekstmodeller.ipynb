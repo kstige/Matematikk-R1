{
 "cells": [
  {
   "attachments": {},
   "cell_type": "markdown",
   "metadata": {},
   "source": [
    "# Vekstmodeller\n",
    "\n",
    "```{admonition} Læringsutbytte\n",
    ":class: utbytte, dropdown\n",
    "I dette temaet arbeider vi med kompetansemålene:\n",
    " * forstå begrepene vekstfart, grenseverdi, derivasjon og kontinuitet, og bruke disse for å løse praktiske problemer\n",
    " * analysere og tolke ulike funksjoner ved å bruke derivasjon\n",
    " * modellere og analysere eksponentiell og logistisk vekst i reelle datasett\n",
    "\n",
    "Etter å ha arbeidet med temaet, skal du:\n",
    " * kjenne til funksjonene for lineær, eksponentiell og logistisk vekst\n",
    " * bruke regresjon i GeoGebra og python til å finne og utforske vekstmodeller\n",
    " * begrunne valg av modell for en gitt problemstilling\n",
    " * kjenne til praktiske anvendelser og forklare forskjeller i utvikling mellom de ulike vekstmodellene\n",
    "```\n",
    "\n",
    "Vi har arbeidet mye med funksjoner, derivasjon og vekst i 1T og R1. I naturen (og i samfunnslivet) observerer vi mange former for endring og utviling. Ofte vil vi være interessert i å kunne beksrive denne utviklingen matematisk. Dette gjør vi gjennom matematisk modellering. Modellering handler om å omforme det virkelige problemet til en forenklet matematisk framstilling. Det kan gjøres på flere måter. På denne siden og den neste vil vi modellere ved hjelp av funksjoner og grafer. Vi vil ta for oss tre ulike former for vekst som vi kan modellere med tre forskjellige funksjonstyper."
   ]
  },
  {
   "cell_type": "markdown",
   "metadata": {},
   "source": [
    "## Konstant vekst\n",
    "Med konstant vekst mener vi at den momentane vekstfarten er konstant. Vi må da ha at\n",
    "\n",
    "$f'(x)=a$, der $a$ er et fast tall.\n",
    "\n",
    "Vi kjenner igjen det her som stigningstallet til en lineær funksjon.\n",
    "\n",
    "```{admonition} Konstant vekst\n",
    ":class: def\n",
    "Vi har konstant vekst når den deriverte har en konstant verdi. Funksjonen som beskriver konstant vekst er den lineære funksjonen\n",
    "\n",
    "$f(x)=ax+b$\n",
    "\n",
    "der $a=f'(x)$ er stigningstallet til funksjonen og $b$ er konstantleddet gitt ved $f(0)$.\n",
    "\n",
    "```"
   ]
  },
  {
   "cell_type": "markdown",
   "metadata": {},
   "source": []
  }
 ],
 "metadata": {
  "kernelspec": {
   "display_name": "python37",
   "language": "python",
   "name": "python3"
  },
  "language_info": {
   "codemirror_mode": {
    "name": "ipython",
    "version": 3
   },
   "file_extension": ".py",
   "mimetype": "text/x-python",
   "name": "python",
   "nbconvert_exporter": "python",
   "pygments_lexer": "ipython3",
   "version": "3.7.16"
  },
  "orig_nbformat": 4
 },
 "nbformat": 4,
 "nbformat_minor": 2
}
