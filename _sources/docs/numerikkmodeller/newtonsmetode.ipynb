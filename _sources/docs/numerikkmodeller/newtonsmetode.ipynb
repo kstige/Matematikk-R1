{
 "cells": [
  {
   "attachments": {},
   "cell_type": "markdown",
   "metadata": {},
   "source": [
    "# Newtons metode\n",
    "\n",
    "```{admonition} Læringsutbytte\n",
    ":class: utbytte, dropdown\n",
    "I dette temaet arbeider vi med kompetansemålet:\n",
    "\n",
    " * utforske og forstå regneregler for potenser og logaritmer, og bruke ulike strategier for å løse eksponentialligninger og logaritmeligninger\n",
    " * analysere og tolke ulike funksjoner ved å bruke derivasjon\n",
    "\n",
    "Etter å ha arbeidet med temaet, skal du:\n",
    " \n",
    " * bruke og forklare Newtons metode til å løse likninger numerisk\n",
    "```"
   ]
  },
  {
   "attachments": {},
   "cell_type": "markdown",
   "metadata": {},
   "source": [
    "Vi har [tidligere](../algebralikninger/numerisklosning.ipynb) sett på to metoder (blant annet halveringsmetoden) for å løse likninger numerisk. Her skal vi se på en tredje metode som ofte vil være raskere enn halveringsmetoden. Metoden anvender tangenter til funksjoner som vi studerte på forrige side. Ved start flytter vi alt i likningen over på venstre side slik at problemet blir å løse en likning $f(x)=0$. Det vil si at vi skal finne et nullpunkt.\n",
    "\n",
    "Algoritmen for metoden er slik:\n",
    "\n",
    " 1. Velg et startpunkt $x_0$ som første tilnærming til nullpunktet.\n",
    " 2. Finn tangenten til $f(x)$ i punktet $(x_0, f(x_0))$.\n",
    " 3. Finn nullpunktet $x_1$ til tangenten. \n",
    " 4. Sjekk om $x_1$ er nullpunkt til $f(x)$. Om det ikke er det lar vi $x_1$ være neste tilnærming til nullpunktet.\n",
    " 5. Gjenta til tilnærmingsverdien er så god som du ønsker.\n",
    "\n",
    "De to første tilnærmingene er illustrert i grafen under. Vi ser at nullpunktet til tangenten vil flytte seg nærmere og nærmere nullpunktet til funksjonen.\n",
    "\n",
    "```{figure} ./bilder/newtonsmetode.png\n",
    "---\n",
    "scale: 20%\n",
    "---\n",
    "```\n",
    "\n",
    "For at algoritmen skal bli effektiv i bruk utleder vi et uttrykk som vi kan bruke direkte til å finne neste tilnærming. Vi tar utgangspunkt i ettpunktsformelen.\n",
    "\n",
    "$y - f(x_0) = f'(x_0)(x-x_0)$\n",
    "\n",
    "Neste tilnærming $x=x_1$ finner vi der $y=0$. Setter inn det i uttrykket over og løser for $x_1$. Da får vi at\n",
    "\n",
    "$x_1 = x_0 - \\frac{f(x_0)}{f'(x_0)}$\n",
    "\n",
    "Neste tilnærming finner vi på akkurat samme måte. Generelt får vi:\n",
    "\n",
    "```{admonition} Newtons metode\n",
    ":class: def\n",
    "La $f(x)$ være en kontinuerlig, deriverbar funksjon og la $(x_n, f(x_n))$ være et punkt på grafen til $f(x)$, der $x_n$ er en tilnærming til nullpunktet til $f$. Da kan en bedre tilnærming til nullpunktet finnes ved \n",
    "\n",
    "$$x_{n+1}=x_n-\\frac{f(x_n)}{f'(x_n)}$$\n",
    "\n",
    "Vi starter metoden ved å velge en starttilnærming $x_0$ og avslutter når $f(x_{n+1})$ er tilstrekkelig nærme null.\n",
    "```\n",
    "\n",
    "Under er det vist hvordan vi kan implementere algoritmen på en enkel måte med python. For å bruke programmet legger vi inn en funksjon med riktig derivert."
   ]
  },
  {
   "cell_type": "code",
   "execution_count": 1,
   "metadata": {},
   "outputs": [
    {
     "name": "stdout",
     "output_type": "stream",
     "text": [
      "Nullpunktet er x = 1.0\n"
     ]
    }
   ],
   "source": [
    "def f(x):               # Funksjonen\n",
    "    return 1-x**2\n",
    "\n",
    "def df(x):              # Den deriverte\n",
    "    return -2*x\n",
    "\n",
    "toleranse = 1E-8        # Betyr det samme som 1*10^-8\n",
    "x = 0.5                 # Første tilnærming\n",
    "\n",
    "while abs(f(x)) > toleranse:\n",
    "    x = x - f(x)/df(x)\n",
    "\n",
    "print(\"Nullpunktet er x =\", round(x,4))"
   ]
  },
  {
   "cell_type": "markdown",
   "metadata": {},
   "source": [
    "I koden over har vi brukt en funksjon der vi kjenner uttrykket for den deriverte. Om vi ikke gjør det kan vi finne en numerisk verdi for den deriverte slik vi gjorde det på siden om [numerisk derivasjon](../grenserderivasjon/numeriskderivasjon.ipynb). Det introduserer en ekstra feilkilde i beregningen vår, men vil i mange tilfeller være nødvendig."
   ]
  },
  {
   "cell_type": "code",
   "execution_count": 5,
   "metadata": {},
   "outputs": [
    {
     "name": "stdout",
     "output_type": "stream",
     "text": [
      "Nullpunktet er x = 0.5232\n"
     ]
    }
   ],
   "source": [
    "import numpy as np\n",
    "\n",
    "def f(x):               # Funksjonen\n",
    "    return np.log(x**2)-x**2+3*x\n",
    "\n",
    "def df(x):              # Den deriverte\n",
    "    dx = 1E-6\n",
    "    return (f(x+dx)-f(x))/ dx\n",
    "\n",
    "toleranse = 1E-8\n",
    "x = 0.5                 # Første tilnærming\n",
    "\n",
    "while abs(f(x)) > toleranse:\n",
    "    x = x - f(x)/df(x)\n",
    "\n",
    "print(\"Nullpunktet er x =\", round(x, 4))"
   ]
  },
  {
   "attachments": {},
   "cell_type": "markdown",
   "metadata": {},
   "source": [
    "For å avgjøre hva som er en fornuftig startverdi for $x_0$ kan det lønne seg å tegne opp grafen først. Da vil du også se om du må lete etter flere nullpunkt.\n",
    "\n",
    "For mer informasjon anbefales siden [realprog.no](https://realprog.no/docs/tema4_numeriske_metoder/likninger.html)."
   ]
  }
 ],
 "metadata": {
  "kernelspec": {
   "display_name": "Python37",
   "language": "python",
   "name": "python3"
  },
  "language_info": {
   "codemirror_mode": {
    "name": "ipython",
    "version": 3
   },
   "file_extension": ".py",
   "mimetype": "text/x-python",
   "name": "python",
   "nbconvert_exporter": "python",
   "pygments_lexer": "ipython3",
   "version": "3.7.16"
  },
  "orig_nbformat": 4
 },
 "nbformat": 4,
 "nbformat_minor": 2
}
