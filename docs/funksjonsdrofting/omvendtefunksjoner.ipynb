{
 "cells": [
  {
   "attachments": {},
   "cell_type": "markdown",
   "metadata": {},
   "source": [
    "# Omvendte funksjoner\n",
    "\n",
    "```{admonition} Læringsutbytte\n",
    ":class: utbytte, dropdown\n",
    "I dette temaet arbeider vi med kompetansemålet:\n",
    " * utforske, analysere og derivere ulike funksjoner og deres omvendte funksjoner, og gjøre rede for egenskaper til og sammenhenger mellom slike funksjoner\n",
    " * analysere og tolke ulike funksjoner ved å bruke derivasjon\n",
    "\n",
    "Etter å ha arbeidet med temaet, skal du:\n",
    " * forklare hva vi mener med omvendte (inverse) funskjoner\n",
    " * forklare sammenhengen mellom omvendte funksjoner\n",
    " * begrunne eksistens av omvendte funksjoner\n",
    " * kunne finne den omvendte funksjonen\n",
    " * derivere omvendte funksjoner\n",
    "```"
   ]
  }
 ],
 "metadata": {
  "language_info": {
   "name": "python"
  },
  "orig_nbformat": 4
 },
 "nbformat": 4,
 "nbformat_minor": 2
}
