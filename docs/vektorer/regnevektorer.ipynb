{
 "cells": [
  {
   "attachments": {},
   "cell_type": "markdown",
   "metadata": {},
   "source": [
    "# Regne med vektorer\n",
    "\n",
    "```{admonition} Læringsutbytte\n",
    ":class: utbytte, dropdown\n",
    "I dette temaet arbeider vi med kompetansemålet:\n",
    "\n",
    " * forstå begrepet vektor og regneregler for vektorer i planet, og bruke vektorer til å beregne ulike størrelser i planet\n",
    "\n",
    "Etter å ha arbeidet med temaet, skal du:\n",
    " \n",
    " * kunne finne summen av to vektorer algebraisk og grafisk\n",
    " * finne differansen mellom to vektorer algebraisk og grafisk\n",
    " * vite hva vi mener med den motsatte vektoren\n",
    " * kunne multiplisere en vektor med en skalar (et tall)\n",
    " * dekomponere vektorer og vite hva enhetsvektorene er\n",
    "\n",
    "```"
   ]
  }
 ],
 "metadata": {
  "language_info": {
   "name": "python"
  },
  "orig_nbformat": 4
 },
 "nbformat": 4,
 "nbformat_minor": 2
}
